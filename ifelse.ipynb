{
 "cells": [
  {
   "cell_type": "markdown",
   "metadata": {},
   "source": [
    "*IF ELSE IN PYTHON*"
   ]
  },
  {
   "cell_type": "code",
   "execution_count": 8,
   "metadata": {},
   "outputs": [
    {
     "name": "stdout",
     "output_type": "stream",
     "text": [
      "pass: 120\n"
     ]
    }
   ],
   "source": [
    "m=120\n",
    "if m> 50:\n",
    "    print(\"pass\")"
   ]
  },
  {
   "cell_type": "code",
   "execution_count": 14,
   "metadata": {},
   "outputs": [
    {
     "name": "stdout",
     "output_type": "stream",
     "text": [
      "200\n"
     ]
    }
   ],
   "source": [
    "a=10\n",
    "b=15\n",
    "c=20\n",
    "max=a\n",
    "if b> max :\n",
    "    max=b\n",
    "    if c> max :\n",
    "        max=c\n",
    "        print(max)"
   ]
  },
  {
   "cell_type": "code",
   "execution_count": 27,
   "metadata": {},
   "outputs": [
    {
     "name": "stdout",
     "output_type": "stream",
     "text": [
      "number is positve\n"
     ]
    }
   ],
   "source": [
    "n=1\n",
    "if n > 0 :\n",
    "    print(\"number is positve\")\n",
    "    if n <0 :\n",
    "        print(\"number is nagitive\")"
   ]
  },
  {
   "cell_type": "markdown",
   "metadata": {},
   "source": [
    "*if else*"
   ]
  },
  {
   "cell_type": "code",
   "execution_count": 29,
   "metadata": {},
   "outputs": [
    {
     "name": "stdout",
     "output_type": "stream",
     "text": [
      "num is odd\n"
     ]
    }
   ],
   "source": [
    "n=7\n",
    "if n % 2==0 :\n",
    "    print(\"num is even\")\n",
    "else :\n",
    "    print(\"num is odd\")\n",
    "    "
   ]
  },
  {
   "cell_type": "code",
   "execution_count": 31,
   "metadata": {},
   "outputs": [
    {
     "name": "stdout",
     "output_type": "stream",
     "text": [
      "number is nagitive\n"
     ]
    }
   ],
   "source": [
    "n=-1\n",
    "if n > 0 :\n",
    "    print(\"number is positve\")\n",
    "else :\n",
    "        print(\"number is nagitive\")"
   ]
  },
  {
   "cell_type": "markdown",
   "metadata": {},
   "source": [
    "*if else*"
   ]
  },
  {
   "cell_type": "code",
   "execution_count": 2,
   "metadata": {},
   "outputs": [
    {
     "name": "stdout",
     "output_type": "stream",
     "text": [
      "not eligible for vote\n"
     ]
    }
   ],
   "source": [
    "age=int(input(\"Enter your age\"))\n",
    "\n",
    "if age >= 18:\n",
    "  print(\"eligible for vote\")\n",
    "else:\n",
    "  print(\"not eligible for vote\")\n"
   ]
  },
  {
   "cell_type": "markdown",
   "metadata": {},
   "source": [
    "*number sign *"
   ]
  },
  {
   "cell_type": "code",
   "execution_count": 10,
   "metadata": {},
   "outputs": [
    {
     "name": "stdout",
     "output_type": "stream",
     "text": [
      "number is positive\n"
     ]
    }
   ],
   "source": [
    "number=float(input(\"please enter the number\"))\n",
    "\n",
    "if number > 0:\n",
    "\n",
    "    print(\"number is positive\")\n",
    "else :\n",
    "        print(\"number is non +tive (zero or negative)\")\n",
    "       "
   ]
  },
  {
   "cell_type": "markdown",
   "metadata": {},
   "source": [
    "* pass fail if else *"
   ]
  },
  {
   "cell_type": "code",
   "execution_count": 15,
   "metadata": {},
   "outputs": [
    {
     "name": "stdout",
     "output_type": "stream",
     "text": [
      "Sorry, you are fail.\n"
     ]
    }
   ],
   "source": [
    "number = int(input(\"Enter the number: \"))\n",
    "\n",
    "if number > 100:\n",
    "    print(\"You are pass.\")\n",
    "else:\n",
    "    print(\"Sorry, you are fail.\")\n"
   ]
  },
  {
   "cell_type": "code",
   "execution_count": 24,
   "metadata": {},
   "outputs": [
    {
     "name": "stdout",
     "output_type": "stream",
     "text": [
      "number is zero\n"
     ]
    }
   ],
   "source": [
    "n=0\n",
    "if n > 0:\n",
    "    print(\"number is positive\")\n",
    "elif n<0 :\n",
    "    print(\"number is negitive\")\n",
    "else:\n",
    "    print(\"number is zero\")"
   ]
  },
  {
   "cell_type": "code",
   "execution_count": 1,
   "metadata": {},
   "outputs": [
    {
     "name": "stdout",
     "output_type": "stream",
     "text": [
      "number is zero\n"
     ]
    }
   ],
   "source": [
    "n = 0\n",
    "if n > 0:\n",
    "    print(\"number is positive\")\n",
    "elif n < 0:\n",
    "    print(\"number is negative\")\n",
    "else:\n",
    "    print(\"number is zero\")\n"
   ]
  }
 ],
 "metadata": {
  "kernelspec": {
   "display_name": "Python 3",
   "language": "python",
   "name": "python3"
  },
  "language_info": {
   "codemirror_mode": {
    "name": "ipython",
    "version": 3
   },
   "file_extension": ".py",
   "mimetype": "text/x-python",
   "name": "python",
   "nbconvert_exporter": "python",
   "pygments_lexer": "ipython3",
   "version": "3.12.3"
  }
 },
 "nbformat": 4,
 "nbformat_minor": 2
}
