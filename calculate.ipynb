{
 "cells": [
  {
   "cell_type": "markdown",
   "metadata": {},
   "source": [
    "*Grocery Shop calculation\n",
    "Problem: you're at grocery store and need to calculate the total cost of your utems.you have the following quantites and prices:\n",
    "\n",
    "Apples:3 at $1.25 each\n",
    "coke:1 at $2.50 \n",
    "milk:2 at $3.00 per gallon*"
   ]
  },
  {
   "cell_type": "code",
   "execution_count": 10,
   "metadata": {},
   "outputs": [
    {
     "name": "stdout",
     "output_type": "stream",
     "text": [
      "Total cost of apple: 3.75\n",
      "Total cost of coke 2.5\n",
      "Total cost of milk 6.0\n",
      "Grand total: 12.25\n"
     ]
    }
   ],
   "source": [
    "apple_price = 1.25\n",
    "coke_price = 2.50\n",
    "milk_price = 3.00\n",
    "\n",
    "num_apples = 3\n",
    "num_coke= 1\n",
    "num_milk = 2\n",
    "\n",
    "total_apples = apple_price * num_apples\n",
    "total_coke = coke_price * num_coke\n",
    "total_milk = milk_price * num_milk\n",
    "\n",
    "total_cost = total_apples + total_coke + total_milk\n",
    "\n",
    "print(\"Total cost of apple:\", total_apples)\n",
    "print(\"Total cost of coke\", total_coke)\n",
    "print(\"Total cost of milk\", total_milk)\n",
    "print(\"Grand total:\", total_cost)"
   ]
  },
  {
   "cell_type": "markdown",
   "metadata": {},
   "source": [
    "*2 Painting Room*"
   ]
  },
  {
   "cell_type": "code",
   "execution_count": 12,
   "metadata": {},
   "outputs": [
    {
     "name": "stdout",
     "output_type": "stream",
     "text": [
      "Number of gallons of paint needed: 1.8\n"
     ]
    }
   ],
   "source": [
    "length = 12\n",
    "width = 15\n",
    "\n",
    "paint_coverage_per_gallon = 200\n",
    "\n",
    "area = 2 * (length * width)\n",
    "\n",
    "num_gallons = area/paint_coverage_per_gallon\n",
    "\n",
    "print(\"Number of gallons of paint needed:\",num_gallons)"
   ]
  }
 ],
 "metadata": {
  "kernelspec": {
   "display_name": "Python 3",
   "language": "python",
   "name": "python3"
  },
  "language_info": {
   "codemirror_mode": {
    "name": "ipython",
    "version": 3
   },
   "file_extension": ".py",
   "mimetype": "text/x-python",
   "name": "python",
   "nbconvert_exporter": "python",
   "pygments_lexer": "ipython3",
   "version": "3.12.3"
  }
 },
 "nbformat": 4,
 "nbformat_minor": 2
}
